{
 "cells": [
  {
   "cell_type": "markdown",
   "metadata": {
    "colab_type": "text",
    "id": "cr1DzovqNHd3"
   },
   "source": [
    "# SLT-CE-5: Pairwise Clustering"
   ]
  },
  {
   "cell_type": "markdown",
   "metadata": {},
   "source": [
    "Grade: 6.0"
   ]
  },
  {
   "cell_type": "markdown",
   "metadata": {},
   "source": [
    "<p style=\"background-color:#adebad;\"> \n",
    "<b>NOTE</b>: We would like to remind you, that we strongly recommend use environment from environment.yml in this coding exercise repo. Otherwise, we reserve the right to deduct points for non-working code if you worked in a different environment incompatible with the provided one.\n",
    "</p>"
   ]
  },
  {
   "cell_type": "markdown",
   "metadata": {
    "colab_type": "text",
    "id": "QT4CPEmgNHd6"
   },
   "source": [
    "In this coding exercise you will apply pairwise clustering for proximity data and you will see how to use the mean-field approximation (MFA) approach with the EM-algorithm to get a labeling for a data object encoded by similarity and dissimilarity matrices. You will also be able to implement modifications of the EM-scheme to obtain embeddings into an Euclidean space.\n",
    "\n",
    "<b> References: </b>\n",
    "\n",
    "[1] T. Hoffman, JM Buhmann. Pairwise Data Clustering by Deterministic Annealing, 1996: http://citeseerx.ist.psu.edu/viewdoc/download?doi=10.1.1.8.9812&rep=rep1&type=pdf \n",
    "\n",
    "Optionally, the following resources could be helpful:\n",
    "\n",
    "[2] Lecture 7. Pairwise clustering: https://ml2.inf.ethz.ch/courses/slt/lectures/slt21_lecture07.pdf\n",
    "\n",
    "[3] Lecture script (previous version). Chapter 3.2: https://ml2.inf.ethz.ch/courses/slt/tutorials/SLT_Script.pdf\n",
    "\n",
    "[4] Lecture 4. Determenistic Annealing: https://ml2.inf.ethz.ch/courses/slt/lectures/slt21_lecture04.pdf\n",
    "\n",
    "[5] Lecture 8. Mean-field approximation: https://ml2.inf.ethz.ch/courses/slt/lectures/slt21_lecture08.pdf"
   ]
  },
  {
   "cell_type": "markdown",
   "metadata": {
    "colab_type": "text",
    "id": "-9PbKO3KNHd7"
   },
   "source": [
    "<h2 style=\"background-color:#f0b375;\"> Setup </h2>"
   ]
  },
  {
   "cell_type": "code",
   "execution_count": 1,
   "metadata": {
    "colab": {},
    "colab_type": "code",
    "id": "9ZGkoTLsNHd8"
   },
   "outputs": [],
   "source": [
    "import sklearn as skl\n",
    "import matplotlib.pyplot as plt\n",
    "import numpy as np\n",
    "import scipy as sp\n",
    "import pandas as pd\n",
    "import sys\n",
    "from scipy.stats import mode\n",
    "import warnings\n",
    "warnings.filterwarnings('ignore')\n",
    "\n",
    "from sklearn.utils.validation import check_is_fitted\n",
    "from sklearn.cluster import SpectralClustering\n",
    "from scipy.io import loadmat\n",
    "\n",
    "#Please use in all section except 5.5 where you have to use random seeds\n",
    "np.random.seed(111)"
   ]
  },
  {
   "cell_type": "markdown",
   "metadata": {
    "colab_type": "text",
    "id": "zRklPbiHNHeC"
   },
   "source": [
    "<h2 style=\"background-color:#f0b375;\"> Data </h2>"
   ]
  },
  {
   "cell_type": "markdown",
   "metadata": {
    "colab_type": "text",
    "id": "sOOSq-gMNHeD"
   },
   "source": [
    "## ProDom Data\n",
    "\n",
    "ProDom is a comprehensive set of protein domain families [6]. A ProDom subset of 2604 protein domain sequences from the ProDom set was selected by [7]. These are chosen based on a high similarity to at least one sequence contained in the first four folds of the SCOP database. The pairwise structural alignments are computed [7]. Each SCOP sequence belongs to a group, as labeled by the experts [8]. The same four classes are assigned here.\n",
    "\n",
    "<b> References: </b>\n",
    "\n",
    "[6] F. Corpet, F. Servant, J. Gouzy and D. Kahn, ProDom and ProDom-CG: tools for protein domain analysis and whole genome comparisons, Nucleid Acids Res., vol. 28, 267-269, 2000.\n",
    "\n",
    "[7] V. Roth, J. Laub, J.M. Buhmann, and K.-R. Mueller, Going metric: Denoising pairwise data, Advances in Neural Information Processing Systems, 841-856, MIT Press, 2003.\n",
    "\n",
    "[8] A.G. Murzin, S.E. Brenner, T. Hubbard and C. Chothia, SCOP: a structural classification of proteins database for the investigation of sequences and structures, Journal of Molecular Biology, vol. 247, 536-540, 1995.\n",
    "\n",
    "\n",
    "Download link: http://prtools.org/disdatasets/index.html#ProDom"
   ]
  },
  {
   "cell_type": "code",
   "execution_count": 2,
   "metadata": {
    "colab": {},
    "colab_type": "code",
    "id": "ooEavYIkNHeE"
   },
   "outputs": [],
   "source": [
    "prodom = {\"input\": loadmat(\"prodom.mat\")}\n",
    "# After some reverse-engineering:\n",
    "prodom[\"similarity\"] = np.array(prodom[\"input\"][\"s\"])[0,0][0]\n",
    "prodom[\"labels\"] =np.array(prodom[\"input\"][\"s\"])[0,0][2].flatten()"
   ]
  },
  {
   "cell_type": "markdown",
   "metadata": {
    "colab_type": "text",
    "id": "UY5KO2PMNHeH"
   },
   "source": [
    "## Protein Data\n",
    "\n",
    "The protein data are provided as a 213x213 dissimilarity matrix comparing the protein sequences based on the concept of an evolutionary distance. It was used for classification in [9] and for clustering in [10]. There are four classes of globins: heterogeneous globin (G), hemoglobin-A (HA), hemoglobin-B (HB) and myoglobin (M).\n",
    "\n",
    "<b> References: </b>\n",
    "\n",
    "[9] T. Graepel, R. Herbrich, P. Bollmann-Sdorra, K. Obermayer, Classification on pairwise proximity data. In Advances in Neural Information System Processing vol. 11, 438-444, 1999.\n",
    "\n",
    "[10] T. Denoeux, T. and M.-H. Masson, EVCLUS: Evidential clustering of proximity data. IEEE Transations on Systems, Man and Cybernetics, vol. 34, 95-109, 2004.\n",
    "\n",
    "Download link (use The PRTools version of Protein): http://prtools.org/disdatasets/index.html#Protein"
   ]
  },
  {
   "cell_type": "code",
   "execution_count": 3,
   "metadata": {
    "colab": {},
    "colab_type": "code",
    "id": "VH0cw6_ENHeI"
   },
   "outputs": [],
   "source": [
    "protein = {\"input\": loadmat(\"protein.mat\")}\n",
    "protein[\"dissimilarity\"] = np.array(protein[\"input\"][\"d\"])[0,0][0]\n",
    "protein[\"labels\"] =np.array(protein[\"input\"][\"d\"])[0,0][2].flatten()"
   ]
  },
  {
   "cell_type": "markdown",
   "metadata": {
    "colab_type": "text",
    "id": "5E6Pnq4NNHeM"
   },
   "source": [
    "<h2 style=\"background-color:#f0b375;\">\n",
    "Section 4.0 \n",
    "<span style=font-size:50%> Complete all problems (4.0.1-4.0.9) in this section to get a pass on this exercise. </span>\n",
    "</h2>"
   ]
  },
  {
   "cell_type": "markdown",
   "metadata": {},
   "source": [
    "In this section, you have to give a description of the pairwise clustering approach based on deterministic annealing and mean-field approximation. Then you have to implement it, as described in Algorithm II in reference [1]."
   ]
  },
  {
   "cell_type": "markdown",
   "metadata": {},
   "source": [
    "\n",
    "<p style=\"background-color:#adebad;\"> \n",
    "<b>NOTE</b>: Please follow these guidelines: <br>\n",
    "</p>\n",
    "<ul style=\"background-color:#adebad;\"> \n",
    "<li> Use consistent notation throughout the notebook. </li>\n",
    "<li> Define every variable properly. </li>\n",
    "<li> Define every math notation before usage. </li>\n",
    "<li> Use math mode with $$ for formulas. </li>\n",
    "</ul>\n",
    "\n",
    "\n",
    "<p style=\"background-color:#adebad;\">\n",
    "    1. Implement the function <b>plot_pairwise()</b> according to its docstring. <br> \n",
    "    Hint: Use <b>matplotlib.pyplot.matshow()</b> to visualize matricies, <b>matplotlib.pyplot.axhspan(),matplotlib.pyplot.axvspan()</b> to add horizontal and vertical rectangles to the plot. If you would like to use <b>np.argsortm</b> use it with flag kind='stable: <b>np.argsort(labels,kind='stable')</b> \n",
    "in this case NumPy uses Timsort algorithm to sort indexes. It is stable algorithm which does not change the order of elements with equal keys.\n",
    "</p>"
   ]
  },
  {
   "cell_type": "code",
   "execution_count": 4,
   "metadata": {
    "colab": {},
    "colab_type": "code",
    "id": "ZNh3zWonNHeN"
   },
   "outputs": [],
   "source": [
    "def plot_pairwise(data, labels, cmap=\"binary\", alpha=0.33):\n",
    "    \"\"\"Plot (dis-)similarity data\n",
    "    \n",
    "    Args:\n",
    "        data (np.ndarray): Symmetric (dis-)similarity array (n_samples, n_samples)\n",
    "        labels (np.array): Cluster label array  (n_samples,)\n",
    "        cmap (str): Color Map for (dis-)similarity values. Please use matplotlib colormaps. See here for details: \n",
    "        https://matplotlib.org/tutorials/colors/colormaps.html\n",
    "        alpha (float): Opacity of cluster overlay, between 0 and 1\n",
    "        \n",
    "    Shows:\n",
    "        Image plot of (dis-)similarity matrix, overlaid with transparent blocks,\n",
    "        which indicate the clusters contained in labels.\n",
    "        Note: Permute the data according to the sorting of the labels.\n",
    "        \n",
    "    Prints:\n",
    "        Minimum, Maximum and Median of (dis-)similarity values\n",
    "        Warning, if (dis-)similarity matrix is not symmetric\n",
    "        \n",
    "    Returns:\n",
    "        This is void function. No return required.\n",
    "    \"\"\"\n",
    "    # visualize matrix\n",
    "    sort = np.argsort(labels)\n",
    "    permuted_data = np.zeros(data.shape)\n",
    "    permuted_data[:,:] = data[sort, :]\n",
    "    permuted_data[:,:] = permuted_data[:,sort]\n",
    "    permuted_labels = labels[sort]\n",
    "    plt.matshow(permuted_data, cmap=cmap, extent=(0,permuted_labels.size,permuted_labels.size,0))\n",
    "    class_indexes = []\n",
    "    hold = permuted_labels[0]\n",
    "    for i, c in enumerate(list(permuted_labels)):\n",
    "        if not hold==c:  \n",
    "            class_indexes.append(i)\n",
    "        hold = c\n",
    "\n",
    "    plt.axhspan(xmin=0, xmax=((class_indexes[0])/(permuted_labels.size)), ymin=0, ymax=class_indexes[0], alpha=alpha, facecolor='g')\n",
    "    plt.axhspan(xmin=((class_indexes[0])/(permuted_labels.size)), xmax=((class_indexes[1])/(permuted_labels.size)), ymin=class_indexes[0], ymax=class_indexes[1], alpha=alpha, facecolor='r')\n",
    "    plt.axhspan(xmin=((class_indexes[1])/(permuted_labels.size)), xmax=((class_indexes[2])/(permuted_labels.size)), ymin=class_indexes[1], ymax=class_indexes[2], alpha=alpha, facecolor='y')\n",
    "    plt.axhspan(xmin=((class_indexes[2])/(permuted_labels.size)), xmax=1, ymin=class_indexes[2], ymax=permuted_labels.size, alpha=alpha)"
   ]
  },
  {
   "cell_type": "code",
   "execution_count": 5,
   "metadata": {
    "colab": {
     "base_uri": "https://localhost:8080/",
     "height": 320
    },
    "colab_type": "code",
    "id": "hNhpLe4aNHeQ",
    "outputId": "92efe7aa-40e5-48e1-ba2d-6976775a1aa1"
   },
   "outputs": [
    {
     "data": {
      "image/png": "[encoded data removed]",
      "text/plain": [
       "<Figure size 288x288 with 1 Axes>"
      ]
     },
     "metadata": {
      "needs_background": "light"
     },
     "output_type": "display_data"
    }
   ],
   "source": [
    "#Example how output should looks like after the following command\n",
    "plot_pairwise(prodom[\"similarity\"], prodom[\"labels\"])"
   ]
  },
  {
   "cell_type": "markdown",
   "metadata": {},
   "source": [
    "<img src=\"attachment:prodom_data_visualization.png\" width=\"250\">\n",
    "\n"
   ]
  },
  {
   "cell_type": "markdown",
   "metadata": {
    "colab_type": "text",
    "id": "z0rraiSFNHeZ"
   },
   "source": [
    "<p style=\"background-color:#adebad;\">\n",
    "    2. Demonstrate your implementation of <b> plot_pairwise() </b> below.\n",
    "</p>"
   ]
  },
  {
   "cell_type": "code",
   "execution_count": 6,
   "metadata": {
    "colab": {
     "base_uri": "https://localhost:8080/",
     "height": 320
    },
    "colab_type": "code",
    "id": "ELHfd1QrNHea",
    "outputId": "3807f2be-b03e-4c28-e1c1-e9a6725bea7d"
   },
   "outputs": [
    {
     "data": {
      "image/png": "[encoded data removed]",
      "text/plain": [
       "<Figure size 288x288 with 1 Axes>"
      ]
     },
     "metadata": {
      "needs_background": "light"
     },
     "output_type": "display_data"
    }
   ],
   "source": [
    "plot_pairwise(protein[\"dissimilarity\"], protein[\"labels\"])"
   ]
  },
  {
   "cell_type": "markdown",
   "metadata": {},
   "source": [
    "<p style=\"background-color:#adebad;\"> \n",
    "<b>NOTE</b>: Please follow these guidelines: <br>\n",
    "</p>\n",
    "<ul style=\"background-color:#adebad;\"> \n",
    "<li> Use consistent notation throughout the notebook. </li>\n",
    "<li> Define every variable properly. </li>\n",
    "<li> Define every math notation before usage. </li>\n",
    "<li> Use math mode with $$ for formulas. </li>\n",
    "</ul>"
   ]
  },
  {
   "cell_type": "markdown",
   "metadata": {},
   "source": [
    "<p style=\"background-color:#adebad;\">\n",
    "Read reference [1] and answer the following questions:\n",
    "</p>\n",
    "<p style=\"background-color:#adebad;\">\n",
    "3. Provide a description of general comcept of EM algorithm (not presented in the paper) with main formulas. <br>\n",
    "</p>"
   ]
  },
  {
   "cell_type": "markdown",
   "metadata": {},
   "source": [
    "The EM algorithm is a general iterative scheme used to find the maximum likelihood or the maximum a posteriori estimates of model parameters. The algorithm iteratively alternates between perfomming an expectaition step, where the expectation of the log-likelihood is evaluated using fixed estimates of model parameters, and a maximization step, where the model parameters are computed which maximize the log-likelihood found in the expectation step.\n",
    "\n",
    "General algorithm for maximum likelihood estimation of model parameters $\\theta$\n",
    "- Expectation Step: $$Q(\\theta|\\theta^{(t)})=E_{Z|X,\\theta^{(t)}}[ \\log L(\\theta;X,Z) ], $$ where $Q(\\theta|\\theta^{(t)})$ is the expected value of the log likelihood function of $\\theta$, $Z$ is the current conditional distribution given $X$, the feature set, and current estimates of $\\theta^{(t)}$, and $L(\\theta;X,Z)=p(X,Z|\\theta)$ is the corresponding likelihood. \n",
    "\n",
    "- Maximization Step: $$\\theta^{(t+1)}=\\arg \\max_\\theta +Q(\\theta|\\theta^{(t)}).$$ The model parameters are found which maximize the expeted log likelihood found in the exepctation step.\n",
    "     "
   ]
  },
  {
   "cell_type": "markdown",
   "metadata": {},
   "source": [
    "<p style=\"background-color:#adebad;\">\n",
    "4. Why it is not possible to apply EM-scheme for central clustering (algorithm I in [1]) to the case of pairwise clustering? <br>\n",
    "</p>"
   ]
  },
  {
   "cell_type": "markdown",
   "metadata": {},
   "source": [
    "The EM-scheme for central clustering can not be used for pairwise clustering. This is because while in the case of central clustering, the Gibbs distribution used to calculate the expectation values of the assignment of data to clusters is rewritten in a factorial form, in pairwise lustering, the Gibbs distribution cannot be exactly rewritten in factorial form. This is due to the fact that the data assignments in pairwise clustering are statistically dependent. "
   ]
  },
  {
   "cell_type": "markdown",
   "metadata": {},
   "source": [
    "<p style=\"background-color:#adebad;\">\n",
    "5. Provide a description of idea mean-field approximation (as KL divergency minimization problem) with main formulas. How does mean field approximaiton approach help to solve problem from the previous question?<br>\n",
    "</p>"
   ]
  },
  {
   "cell_type": "markdown",
   "metadata": {},
   "source": [
    "In mean-field approximation, the Gibbs distribution of the pairwise clustering cost funciton $P(\\mathcal{H}^{pc})$ with interactions is approximated with $\\mathcal{E}$-parameterized family of distributions $P^0({\\mathcal{E}})$, and neglects the correlations between stochastic variables in the pairwise clustering cost function $\\mathcal{H}^{pc}$. The goal is to determine the optimal approximation $\\mathcal{E}^*$ such that the corresponding distribution $P^0({\\mathcal{E}^*})$ represents the statistics of the original problam most accurately. $\\mathcal{E}^*$ can be calculated as follows: $$\\mathcal{E}^* = \\arg \\min_\\mathcal{E} \\mathcal{I} \\left(P^0\\left(\\mathcal{E}\\right) || P\\left(\\mathcal{H}^{pc}\\right)\\right),$$ where $\\mathcal I(\\cdot || \\cdot)$ is the Kullback-Leibler divergence. This can then be used to calculate the optimal assignments: $$\\langle M_{i\\alpha} \\rangle = \\frac{\\exp ( -\\mathcal{E}^*_{i\\alpha}/T)}{\\sum^K_{\\nu =1} \\exp( -\\mathcal{E}^*_{i\\nu}/T)}.$$ Furthermore, a further approximation of $\\mathcal{E}^*$ can be made $$ \\mathcal{E}^*_{i\\nu}=\\frac{1}{\\langle p_\\nu \\rangle N}\\sum_{k=1}^N \\langle M_{k\\nu}\\rangle \\left(D_{ik} - \\frac{1}{2\\langle p_\\nu \\rangle N} \\sum^N_{j=1} \\langle M_{j\\nu} \\rangle D_{jk} \\right) $$ with the purpose of simplifying it, where terms of low order are neglected, and zero self-dissimilarities are assumed.\n",
    "\n",
    "In the previous question we stated that the Gibbs distribution cannot be exactly rewritten in a factorial form due to the fact that the data assignments are statistically dependent, i.e. each assignment variable $M_{i\\nu}$ interacts with all other assignment varialbes. In the limit of large data sets, however, the cost contributions of these interactions average in the limit of large data sets and reduce the influnce of correlations on individual data assignments. \n",
    "\n",
    "The mean field approximatin approach helps us solve the problem from the previous question, because we can use it to approximate the average interaction of individual data assignments, with other assignment variables. "
   ]
  },
  {
   "cell_type": "markdown",
   "metadata": {},
   "source": [
    "<p style=\"background-color:#adebad;\">\n",
    "6. Provide a description of EM algorithm for pairwise clustering for the case if we have proximity data (algorithm II in [1]). <br>\n",
    "</p>"
   ]
  },
  {
   "cell_type": "markdown",
   "metadata": {},
   "source": [
    "Innitialize: \n",
    "- $\\mathcal{E}^{*(0)}_{i\\nu}$ and $\\langle M_{i\\nu} \\rangle ^{(0)}\\in (0,1)$ randomly\n",
    "- temperature $T \\leftarrow T_0$\n",
    "\n",
    "While $T> T_{\\mathrm{FINAL}}$:\n",
    "> $t \\leftarrow 0$\n",
    "\n",
    "> Repeat untill convergence:\n",
    "> > E-like step: estimate $\\langle M_{i\\nu} \\rangle ^{(t+1)}$ as a function of $\\mathcal{E}^{*(t)}_{i\\nu}$ $$\\langle M_{i\\alpha} \\rangle ^{(t+1)}= \\frac{\\exp ( -\\mathcal{E}^{*(t)}_{i\\alpha}/T)}{\\sum^K_{\\nu =1} \\exp( -\\mathcal{E}^{*(t)}_{i\\nu}/T)};$$\n",
    "> > M-like step: calculate $\\mathcal{E}^{*(t+1)}_{i\\nu}$ for given $\\langle M_{i\\nu} \\rangle ^{(t+1)}$ $$ \\mathcal{E}^{*(t+1)}_{i\\nu}=\\frac{1}{\\langle p_\\nu \\rangle N}\\sum_{k=1}^N \\langle M_{k\\nu}\\rangle^{(t+1)} \\left(D_{ik} - \\frac{1}{2\\langle p_\\nu \\rangle N} \\sum^N_{j=1} \\langle M_{j\\nu}^{(t+1)} \\rangle D_{jk} \\right); $$\n",
    "> > $t\\leftarrow t+1;$\n",
    "\n",
    "> $T\\leftarrow T/2;$ $\\langle M_{i\\nu} \\rangle ^{(0)}$ $\\leftarrow \\langle M_{i\\nu} \\rangle ^{(t)}$; $\\mathcal{E}^{*(0)}_{i\\nu}\\leftarrow \\mathcal{E}^{*(t)}_{i\\nu}$"
   ]
  },
  {
   "cell_type": "markdown",
   "metadata": {
    "colab_type": "text",
    "id": "KqWfmZkTNHeg"
   },
   "source": [
    "<p style=\"background-color:#adebad;\">   \n",
    "7. Implement the <b>fit_predict()</b> method without embedding (Algorithm II in [1]) for the template <b>class PairwiseClustering</b>, according to its docstring. You can add more class methods if necessary <br>\n",
    "</p>"
   ]
  },
  {
   "cell_type": "code",
   "execution_count": 7,
   "metadata": {
    "colab": {},
    "colab_type": "code",
    "id": "zGZWm0t_NHeh"
   },
   "outputs": [],
   "source": [
    "from time import time\n",
    "from tqdm.notebook import trange\n",
    "from tqdm.notebook import tqdm\n",
    "\n",
    "class PairwiseClustering(skl.base.BaseEstimator, skl.base.TransformerMixin):\n",
    "    \"\"\"Template class for PairwiseClustering (PC)\n",
    "    \n",
    "    Attributes:\n",
    "        M (np.ndarray): Assignment probability matrix (n_samples, n_clusters)\n",
    "        centroids (np.ndarray): Embedding centroids (n_clusters, n_components), used only if embed is True.\n",
    "        embeddings (np.ndarray): Embeddings of input samples (n_samples, n_components),\n",
    "                                 used only if embed is True.\n",
    "    Parameters:\n",
    "        n_clusters (int): Maximum number of clusters.\n",
    "        random_state (int): Random seed.\n",
    "        embed (bool): Indicator, if data should be clustered and embedded simultaneously (algorithm III),\n",
    "                      or not (algorithm II).\n",
    "        n_components (int): Dimension of embedding space, used only if embed is True\n",
    "    \"\"\"\n",
    "    \n",
    "    def __init__(self, n_clusters=4, random_state=1, embed=False, n_components=2, T=1, T_f=0.0001, eps=1e-4, rate=0.5, eps_embed=0.05):\n",
    "        self.n_clusters = n_clusters\n",
    "        self.random_state = random_state\n",
    "        self.embed = embed\n",
    "        self.n_components = n_components\n",
    "        self.T = T\n",
    "        self.T_f = T_f\n",
    "        self.eps = eps\n",
    "        self.rate = rate\n",
    "        self.M = None\n",
    "        self.E = None\n",
    "        self.eps_embed = eps_embed\n",
    "        # Add more parameters, if necessary.\n",
    "        \n",
    "        self.X=None\n",
    "        self.N = None\n",
    "        \n",
    "        self.F = None\n",
    "        self.Y = None\n",
    "    \n",
    "    def fit_predict(self, X):\n",
    "        \"\"\"Compute PC for dissimilarity matrix X\n",
    "        \n",
    "        Compute cluster assignments. If embed is True, also compute embeddings/centroids.\n",
    "         \n",
    "        Args:\n",
    "            X (np.ndarray): Dissimilarity matrix (n_samples, n_samples)\n",
    "        \n",
    "        Returns:\n",
    "            C (np.ndarray): Assignments (n_samples,). \n",
    "            This is MAP estimation obtained from matrix M in accordance with notation from reference [1]. \n",
    "        \"\"\"\n",
    "        np.random.seed(self.random_state)\n",
    "        self.X = X\n",
    "        self.N = X.shape[0]\n",
    "        \n",
    "        self.M = np.random.rand(X.shape[0], self.n_clusters)\n",
    "        self.E = np.random.rand(X.shape[0], self.n_clusters)\n",
    "        if self.embed == False:\n",
    "            isnan=False\n",
    "            #Algorithm II from [1] should be implemented here (this is part of the Section 4.0)\n",
    "            \n",
    "            #initialize\n",
    "            \n",
    "            while self.T > self.T_f:\n",
    "                store_E=(np.ones(self.E.shape)*1e+100)\n",
    "                inner_M=(np.ones(self.M.shape)*1e+100)\n",
    "                outer_M = self.M.copy()\n",
    "                \n",
    "                iter_till_break = 0\n",
    "                while np.linalg.norm(inner_M-self.M)>1e-4 and np.linalg.norm(store_E-self.E)>1e-3 and iter_till_break < 30:\n",
    "                    store_E = self.E.copy()\n",
    "                    inner_M = self.M.copy()\n",
    "                    M = self.Expectation()\n",
    "                    if not np.isnan(np.sum(M)):\n",
    "                        self.M = M\n",
    "                    else: isnan = True; break\n",
    "                    E = self.Maximization()\n",
    "                    if not np.isnan(np.sum(E)):\n",
    "                        self.E = E\n",
    "                    else: isnan = True; break\n",
    "                    iter_till_break+=1\n",
    "                \n",
    "                if np.linalg.norm(outer_M - self.M) < 1e-6 or isnan:\n",
    "                    break\n",
    "                self.T=self.T*self.rate  \n",
    "            return np.argmax(self.M,axis=1)\n",
    "\n",
    "        if self.embed == True:\n",
    "            #Algorithm III from [1] should be implemented here (this is part of the Section 6.0)\n",
    "            \n",
    "\n",
    "            self.F = np.random.rand(self.X.shape[0], self.n_components)\n",
    "            self.Y = np.random.rand(self.n_clusters, self.n_components)\n",
    "\n",
    "            isnan=False\n",
    "            while self.T > self.T_f:\n",
    "                store_E=(np.ones(self.E.shape)*1e+100)\n",
    "                inner_M=(np.ones(self.M.shape)*1e+100)\n",
    "                outer_M = self.M.copy()\n",
    "                \n",
    "                iter_till_break = 0\n",
    "                for ex in range(4):\n",
    "                    store_E = self.E.copy()\n",
    "                    inner_M = self.M.copy()\n",
    "                    M = self.Expectation()\n",
    "                    if not np.isnan(np.sum(M)): self.M = M\n",
    "                    else: isnan = True;break\n",
    "                    E = self.M_like()\n",
    "                    if not np.isnan(np.sum(E)): self.E = E\n",
    "                    else: isnan = True;break\n",
    "                    y_copy = np.ones(self.Y.shape)*1e+10\n",
    "                    f_copy = np.ones(self.F.shape)*1e+10\n",
    "                    for early in range(4):\n",
    "                        y_copy = self.Y.copy()\n",
    "                        f_copy = self.F.copy()\n",
    "                        \n",
    "                        F = self.calc_x()\n",
    "                        if not np.isnan(np.sum(F)) : \n",
    "                            self.F = F\n",
    "                        else: break\n",
    "                        Y = self.update_y()\n",
    "                        if not np.isnan(np.sum(Y)) : \n",
    "                            self.Y = Y\n",
    "                        else: break\n",
    "                        num1 = np.linalg.norm(y_copy-self.Y)\n",
    "                        num2 = np.linalg.norm(f_copy-self.F)\n",
    "                    iter_till_break+=1\n",
    "                    \n",
    "                if np.linalg.norm(outer_M - self.M) < 1e-6 or isnan:\n",
    "                    break\n",
    "                self.T=self.T*self.rate  \n",
    "            return np.argmax(self.M,axis=1)\n",
    "\n",
    "\n",
    "    def M_like(self):\n",
    "        E = np.zeros(self.E.shape)\n",
    "        for eta in range(self.n_clusters):\n",
    "            E[:,eta] = ( (1/(2*self.N*self.p_nu(eta)))*self.X@(self.M[:, eta][:,np.newaxis,]) )[:,0]\n",
    "        return E\n",
    "        \n",
    "    def calc_x(self):\n",
    "        SumEta = np.zeros(self.Y[0,:].shape)\n",
    "        F = np.zeros(self.F.shape)\n",
    "\n",
    "        for i in range(self.N):\n",
    "            for eta in range(self.n_clusters):\n",
    "                SumMu = np.zeros(self.Y[0,:].shape)\n",
    "                for mu in range(self.n_clusters):\n",
    "                    SumMu += self.M[i,mu] * self.Y[mu,:]\n",
    "                SumEta += (np.linalg.norm(self.Y[eta, :])**2 - self.E[i,eta])*(self.Y[eta, :]-SumMu)\n",
    "            Kx = 0.5 * SumEta\n",
    "            yy = np.zeros((self.Y.shape[1], self.Y.shape[1]))\n",
    "            y = np.zeros(self.Y.shape[1])\n",
    "            for eta in range(self.n_clusters):\n",
    "                yy += self.M[i,eta]*(self.Y[eta,:][:, np.newaxis]@self.Y[eta,:][np.newaxis,:])\n",
    "                y += self.M[i,eta]*self.Y[eta,:]\n",
    "            K = yy - y[:,np.newaxis]@y[np.newaxis,:]\n",
    "            try:np.linalg.inv(K)\n",
    "            except np.linalg.LinAlgError as err:\n",
    "                if \"Singular matrix\" in str(err):\n",
    "                    K=K+np.eye(K.shape[0])*1e-2;\n",
    "                else:\n",
    "                    raise\n",
    "            try:np.linalg.inv(K)\n",
    "            except np.linalg.LinAlgError as err:\n",
    "                if \"Singular matrix\" in str(err):\n",
    "                    K=K+np.eye(K.shape[0])*1e-2;\n",
    "                    return self.F\n",
    "                else:\n",
    "                    raise\n",
    "                    \n",
    "\n",
    "            F[i,:]=(np.linalg.inv(K)@Kx[:,np.newaxis])[:,0]\n",
    "\n",
    "        return F \n",
    "        \n",
    "    def update_y(self):\n",
    "        Y = np.zeros(self.Y.shape)\n",
    "        for eta in range(self.n_clusters):\n",
    "            SumUp = np.zeros(self.F.shape[1])\n",
    "            SumDown = 0\n",
    "            for k in range(self.N):\n",
    "                SumUp+= self.M[k,eta] *self.F[k,:]\n",
    "                SumDown+= self.M[k,eta]\n",
    "            Y[eta,:] = SumUp/SumDown\n",
    "        return Y\n",
    "\n",
    "    def p_nu(self,nu):\n",
    "        return np.sum(self.M[:,nu]/self.N)\n",
    "        \n",
    "    def Expectation(self):\n",
    "        M = np.zeros(self.M.shape)\n",
    "        expET = np.exp(-self.E/(self.T))\n",
    "        sumexpET = np.sum(expET, axis=1)[:,np.newaxis]\n",
    "        M = expET / (sumexpET)\n",
    "        M = M / np.sum(M, axis=1)[:,np.newaxis]\n",
    "        return M\n",
    "            \n",
    "    def Maximization(self):\n",
    "        E = np.zeros(self.E.shape)\n",
    "        for nu in range(self.n_clusters):\n",
    "            SumIn = self.M[:,nu][:,np.newaxis]*self.X\n",
    "\n",
    "            SumOut = self.M[:,nu][np.newaxis,:] * (self.X - (1/(2*self.N*self.p_nu(nu)))* \n",
    "                                                   np.sum(SumIn,axis=0)[np.newaxis,:])\n",
    "            E[:,nu]= (1/(self.p_nu(nu)*self.N))* np.sum(SumOut,axis=1) \n",
    "        return E\n",
    "            \n",
    "    def test_Maximization(self):\n",
    "        E = self.E.copy()\n",
    "        M = self.M.copy()\n",
    "        for i in trange(self.N):\n",
    "            for nu in range(self.n_clusters):\n",
    "                SumOut = 0\n",
    "                for k in range(self.N):\n",
    "                    SumIn = 0\n",
    "                    for j in range(self.N):\n",
    "                        SumIn+=M[j,nu]*self.X[j,k]\n",
    "                    SumOut += M[k,nu]*(self.X[i,k]-(self.n_clusters/(2*self.N))*SumIn)\n",
    "                E[i, nu] = (self.n_clusters/self.N)*SumOut\n",
    "        return E\n",
    "    \n",
    "\n",
    "            \n",
    "    def cost(self, D, M):\n",
    "        \"\"\"Compute the costs of the clustering solution M for dissimilarity D.\n",
    "        \n",
    "        The costs refer to the pairwise clustering costs in eq. (16) of reference [1].\n",
    "        \n",
    "        Args:\n",
    "            D (np.ndarray): Dissimilarity matrix (n_samples, n_samples)\n",
    "            M (np.ndarray): Assignment probability matrix (n_samples, n_clusters)\n",
    "            \n",
    "        Returns:\n",
    "            cost (float): Costs of current clustering\n",
    "        \"\"\"\n",
    "        p_nus = np.zeros((self.n_clusters))\n",
    "        for i in range(self.n_clusters):\n",
    "            p_nus[i] = self.p_nu(i)\n",
    "        \n",
    "        SumNu = np.zeros(D.shape)\n",
    "        for nu in range(self.n_clusters):\n",
    "            SumNu += D * ( (1/self.p_nu(nu)) * M[:,nu][:,np.newaxis] @ M[:,nu][np.newaxis,:] -(1/self.n_clusters)  )\n",
    "        cost = (1/(2*self.N)) * np.sum(SumNu)\n",
    "                \n",
    "        return cost\n",
    "    def cost_test(self,D,M):\n",
    "        cost = 0\n",
    "        for k in trange(self.N):\n",
    "            for l in range(self.N):\n",
    "                SumIn=0\n",
    "                for nu in range(self.n_clusters):\n",
    "                    SumIn+=(M[k,nu]*M[l,nu]/self.p_nu(nu))\n",
    "                SumIn -= 1\n",
    "                cost += (D[k,l]*SumIn)/self.N\n",
    "        cost = cost/2\n",
    "        return cost\n",
    "     \n"
   ]
  },
  {
   "cell_type": "markdown",
   "metadata": {},
   "source": [
    "Tricks to improve convergence without affecting the final cluster structure:\n",
    "\n",
    "- Low T leads to nan values: There is a safety net set up; matrices M and E are not directly modified during maximization and instead copies of these matrices are updated. These are then saved if the matrices do not contain nan values. If the matrix contains a nan value then the algorithm is terminated.\n",
    "- Early stopping: During EM-like process convergence is judged based on the norm of $\\left(M^{t+1}-M^{t}\\right)$, and $\\left(E^{t+1}- E^{t}\\right)$. $T$ is stepped down if these values are low enough. In some examples, however, the convergence near this number is very slow, although it is already close to this number. A maximum iteration number was set to prevent the algorithm from taking too long. "
   ]
  },
  {
   "cell_type": "markdown",
   "metadata": {
    "colab_type": "text",
    "id": "pwJA1TSqNHek"
   },
   "source": [
    "<p style=\"background-color:#adebad;\">\n",
    "8. Create an instance of your Pairwise Clustering (PC) class, then fit and predict the Protein data. <br>\n",
    "9. Record the execution time.\n",
    "</p>"
   ]
  },
  {
   "cell_type": "code",
   "execution_count": 8,
   "metadata": {
    "colab": {
     "base_uri": "https://localhost:8080/",
     "height": 51
    },
    "colab_type": "code",
    "id": "dJhRnnHfNHel",
    "outputId": "dc1bae15-3a7c-4e61-ede5-7a309b9b150d"
   },
   "outputs": [
    {
     "name": "stdout",
     "output_type": "stream",
     "text": [
      "Wall time: 217 ms\n"
     ]
    }
   ],
   "source": [
    "%%time\n",
    "PC = PairwiseClustering()\n",
    "labels_PC = PC.fit_predict(protein[\"dissimilarity\"])"
   ]
  },
  {
   "cell_type": "markdown",
   "metadata": {
    "colab_type": "text",
    "id": "SNn7EbPzNHer"
   },
   "source": [
    "<h2 style=\"background-color:#f0b375;\">\n",
    "Section 4.5 \n",
    "<span style=font-size:50%> Complete all problems in this (4.5.1-4.5.5) and previous sections to get a grade of 4.5 </span>\n",
    "</h2>"
   ]
  },
  {
   "cell_type": "markdown",
   "metadata": {},
   "source": [
    "In this section, you have to compare pairwise clustering with another clustering approach, that also works with proximity data, in terms of different metrics."
   ]
  },
  {
   "cell_type": "markdown",
   "metadata": {},
   "source": [
    "<p style=\"background-color:#adebad;\">\n",
    "1. Read https://scikit-learn.org/stable/modules/clustering.html#spectral-clustering and shortly recap the idea of spectral clustering.\n",
    "</p>"
   ]
  },
  {
   "cell_type": "markdown",
   "metadata": {},
   "source": [
    "Spectral clustering is a scheme for clustering proximity data, taking a corresponding similarity matrix as an input. Similarly to our application in CE-4, spectral clustering first creates an embedding into the euclidean space and then clusters the embedding with traiditional -- euclidean vector based -- algorithms, such as k-Means. "
   ]
  },
  {
   "cell_type": "markdown",
   "metadata": {},
   "source": [
    "<p style=\"background-color:#adebad;\">\n",
    "2. Predict the Protein data with sklearn.SpectralClustering. <br>\n",
    "3. Record the execution time. <br>\n",
    "</p>"
   ]
  },
  {
   "cell_type": "code",
   "execution_count": 9,
   "metadata": {},
   "outputs": [
    {
     "name": "stdout",
     "output_type": "stream",
     "text": [
      "Wall time: 106 ms\n"
     ]
    }
   ],
   "source": [
    "%%time\n",
    "SC = skl.cluster.SpectralClustering(n_clusters=4, random_state=42, affinity=\"precomputed\")\n",
    "affinities = np.exp(- protein[\"dissimilarity\"] / 3) # SC takes positive affinities as input\n",
    "labels_spectral= SC.fit_predict(affinities)"
   ]
  },
  {
   "cell_type": "markdown",
   "metadata": {},
   "source": [
    "<p style=\"background-color:#adebad;\">\n",
    "4. Complete the function <b>compare_clusterings()</b> and use it to compare the spectral and the pairwise clustering methods. <br>\n",
    "Use the following metrics to compare clustering:\n",
    "</p>\n",
    "<ul style=\"background-color:#adebad;\"> \n",
    "<li> V-measure cluster labeling given a ground truth. </li>\n",
    "<li> Normalized Mutual Information between two clusterings. </li>\n",
    "<li> Homogeneity metric of a cluster labeling given a ground truth. </li>\n",
    "<li> The Fowlkes-Mallows score </li>\n",
    "<li> Rand index adjusted for chance. </li>\n",
    "<li> Adjusted Mutual Information between two clusterings. </li>\n",
    "</ul>\n",
    "<p style=\"background-color:#adebad;\">\n",
    "Hint: use <b>sklearn.metrics.v_measure_score(),sklearn.metrics.normalized_mutual_info_score(), sklearn.metrics.homogeneity_score(), sklearn.metrics.fowlkes_mallows_score(), sklearn.metrics.completeness_score(), sklearn.metrics.adjusted_rand_score(), sklearn.metrics.adjusted_mutual_info_score()</b>. You can also find explanations and examples there: scikit-learn.org\n",
    "</p>"
   ]
  },
  {
   "cell_type": "code",
   "execution_count": 10,
   "metadata": {
    "colab": {},
    "colab_type": "code",
    "id": "Nyr9fUgfNHev"
   },
   "outputs": [],
   "source": [
    "def compare_clusterings(labels_true, **labels_pred):\n",
    "    \"\"\"Show a summary of different clustering metrics\n",
    "    \n",
    "    Args:\n",
    "        labels_true (array): Ground-truth cluster labels\n",
    "    \n",
    "    Note:\n",
    "        Each kwarg should be an array with predicted labels\n",
    "    \"\"\"\n",
    "    \n",
    "    \n",
    "    n_pred = len(labels_pred)\n",
    "\n",
    "    \n",
    "    scores = []\n",
    "    for name in dir(skl.metrics.cluster):\n",
    "        score = getattr(skl.metrics.cluster, name)\n",
    "        try:\n",
    "            score(labels_true=[0], labels_pred=[0]) # Check if score takes the right arguments\n",
    "            if \"score\" not in score.__name__:\n",
    "                raise TypeError\n",
    "            if score.__name__ == \"mutual_info_score\":\n",
    "                raise TypeError\n",
    "            if score.__name__ == \"rand_score\":\n",
    "                raise TypeError\n",
    "        except TypeError:\n",
    "            continue\n",
    "        else:\n",
    "            scores.append(score)\n",
    "    score_dict = {}\n",
    "    for key, val in labels_pred.items():\n",
    "        score_dict[key] = {}\n",
    "        for score in scores:\n",
    "            score_dict[key][score.__name__] = score(labels_true, val)\n",
    "        \n",
    "    return score_dict\n",
    "    "
   ]
  },
  {
   "cell_type": "markdown",
   "metadata": {
    "colab_type": "text",
    "id": "GbeFm900NHez"
   },
   "source": [
    "<p style=\"background-color:#adebad;\">\n",
    "    5. Demonstrate your implementation of <b>compare_clusterings()</b>. See example of how the output should look like below. You should produce one plot. Hint: use <b>matplotlib.pyplot.barh(), matplotlib.pyplot.xticks(), matplotlib.pyplot.yticks()</b> to get horizontal histogram for different metrics as shown below.\n",
    "\n",
    "</p>"
   ]
  },
  {
   "cell_type": "code",
   "execution_count": 11,
   "metadata": {
    "colab": {
     "base_uri": "https://localhost:8080/",
     "height": 552
    },
    "colab_type": "code",
    "id": "f7ADfUYhNHe4",
    "outputId": "aad3c6c7-4e0f-48b3-ed96-61bdb142f01d"
   },
   "outputs": [
    {
     "data": {
      "text/html": [
       "<div>\n",
       "<style scoped>\n",
       "    .dataframe tbody tr th:only-of-type {\n",
       "        vertical-align: middle;\n",
       "    }\n",
       "\n",
       "    .dataframe tbody tr th {\n",
       "        vertical-align: top;\n",
       "    }\n",
       "\n",
       "    .dataframe thead th {\n",
       "        text-align: right;\n",
       "    }\n",
       "</style>\n",
       "<table border=\"1\" class=\"dataframe\">\n",
       "  <thead>\n",
       "    <tr style=\"text-align: right;\">\n",
       "      <th></th>\n",
       "      <th>SpectralClustering</th>\n",
       "      <th>PairwiseClustering</th>\n",
       "      <th>Ground Truth</th>\n",
       "    </tr>\n",
       "  </thead>\n",
       "  <tbody>\n",
       "    <tr>\n",
       "      <th>v_measure_score</th>\n",
       "      <td>0.803341</td>\n",
       "      <td>0.946050</td>\n",
       "      <td>1</td>\n",
       "    </tr>\n",
       "    <tr>\n",
       "      <th>normalized_mutual_info_score</th>\n",
       "      <td>0.803341</td>\n",
       "      <td>0.946050</td>\n",
       "      <td>1</td>\n",
       "    </tr>\n",
       "    <tr>\n",
       "      <th>homogeneity_score</th>\n",
       "      <td>0.750683</td>\n",
       "      <td>0.948206</td>\n",
       "      <td>1</td>\n",
       "    </tr>\n",
       "    <tr>\n",
       "      <th>fowlkes_mallows_score</th>\n",
       "      <td>0.842005</td>\n",
       "      <td>0.975888</td>\n",
       "      <td>1</td>\n",
       "    </tr>\n",
       "    <tr>\n",
       "      <th>completeness_score</th>\n",
       "      <td>0.863943</td>\n",
       "      <td>0.943904</td>\n",
       "      <td>1</td>\n",
       "    </tr>\n",
       "    <tr>\n",
       "      <th>adjusted_rand_score</th>\n",
       "      <td>0.763129</td>\n",
       "      <td>0.966625</td>\n",
       "      <td>1</td>\n",
       "    </tr>\n",
       "    <tr>\n",
       "      <th>adjusted_mutual_info_score</th>\n",
       "      <td>0.799650</td>\n",
       "      <td>0.945148</td>\n",
       "      <td>1</td>\n",
       "    </tr>\n",
       "  </tbody>\n",
       "</table>\n",
       "</div>"
      ],
      "text/plain": [
       "                              SpectralClustering  PairwiseClustering  \\\n",
       "v_measure_score                         0.803341            0.946050   \n",
       "normalized_mutual_info_score            0.803341            0.946050   \n",
       "homogeneity_score                       0.750683            0.948206   \n",
       "fowlkes_mallows_score                   0.842005            0.975888   \n",
       "completeness_score                      0.863943            0.943904   \n",
       "adjusted_rand_score                     0.763129            0.966625   \n",
       "adjusted_mutual_info_score              0.799650            0.945148   \n",
       "\n",
       "                              Ground Truth  \n",
       "v_measure_score                          1  \n",
       "normalized_mutual_info_score             1  \n",
       "homogeneity_score                        1  \n",
       "fowlkes_mallows_score                    1  \n",
       "completeness_score                       1  \n",
       "adjusted_rand_score                      1  \n",
       "adjusted_mutual_info_score               1  "
      ]
     },
     "execution_count": 11,
     "metadata": {},
     "output_type": "execute_result"
    },
    {
     "data": {
      "image/png": "[encoded data removed]",
      "text/plain": [
       "<Figure size 432x288 with 1 Axes>"
      ]
     },
     "metadata": {
      "needs_background": "light"
     },
     "output_type": "display_data"
    }
   ],
   "source": [
    "#Example how output sould looks like after the following command\n",
    "score_dict = compare_clusterings(labels_true=protein[\"labels\"],\n",
    "                        SpectralClustering=labels_spectral,\n",
    "                        PairwiseClustering=labels_PC)\n",
    "def show_results(score_dict):\n",
    "    scores = {}\n",
    "    index = []\n",
    "    indexing = True\n",
    "    for key in score_dict:\n",
    "        scores[key] = []\n",
    "        for score in score_dict[key]:\n",
    "            if indexing: index.append(score)\n",
    "            scores[key].append(score_dict[key][score])\n",
    "        indexing = False\n",
    "    scores['Ground Truth'] = []\n",
    "    for i in range(len(score_dict[key])):\n",
    "        scores['Ground Truth'].append(1)\n",
    "    df = pd.DataFrame(scores, index = index)\n",
    "    df.plot.barh(fontsize=13)\n",
    "    plt.legend(loc='upper left' ,bbox_to_anchor=(1.01, 1), fontsize=13)\n",
    "    plt.subplots_adjust(left=0.0, right=1.2, bottom=0.0, top=2)\n",
    "    return df.iloc[::-1]\n",
    "show_results(score_dict)"
   ]
  },
  {
   "cell_type": "markdown",
   "metadata": {},
   "source": [
    "<img src=\"attachment:data_visualiztion.png\" width=\"700\">"
   ]
  },
  {
   "cell_type": "markdown",
   "metadata": {
    "colab_type": "text",
    "id": "eMjveOeJNHfA"
   },
   "source": [
    "<h2 style=\"background-color:#f0b375;\">\n",
    "Section 5.0 \n",
    "<span style=font-size:50%> Complete all problems in this (5.0.1-5.0.5) and previous sections to get a grade of 5.0 </span>\n",
    "</h2>"
   ]
  },
  {
   "cell_type": "markdown",
   "metadata": {},
   "source": [
    "In this section, you have to investigate the quality of clustering depending on various transformations from similarity data to dissimilarity data and compare results, in terms of different metrics."
   ]
  },
  {
   "cell_type": "markdown",
   "metadata": {},
   "source": [
    "<p style=\"background-color:#adebad;\">\n",
    "    As PairwiseClustering takes dissimilarities as input, we need to transform the similarity data from <b>Prodom</b> accordingly.<br>\n",
    "    1. Run <b>fit_predict()</b> with all the transformations and parameters below. Run compare_clusterings for each set of parameter values for your <b>PairwiseClustering</b> algorithm. <br>\n",
    "    2. Produce output of <b>compare_clusterings()</b> for tranformation families below. You should get 3 plots: 1st transformation family comparison, 2nd transformation family comparison, then comparison between of the best transformations of every tranformation family.<br>\n",
    "<b>NOTE</b>: By best transformation here and further in the notebook is meant the transformation that leads to a maximum average score of scores above for pairwise clustering.\n",
    "</p>"
   ]
  },
  {
   "cell_type": "code",
   "execution_count": 12,
   "metadata": {},
   "outputs": [],
   "source": [
    "S = prodom[\"similarity\"]"
   ]
  },
  {
   "cell_type": "code",
   "execution_count": 13,
   "metadata": {},
   "outputs": [
    {
     "data": {
      "application/vnd.jupyter.widget-view+json": {
       "model_id": "bfe1ce6aab2a453ca6716308b6609ef4",
       "version_major": 2,
       "version_minor": 0
      },
      "text/plain": [
       "  0%|          | 0/3 [00:00<?, ?it/s]"
      ]
     },
     "metadata": {},
     "output_type": "display_data"
    }
   ],
   "source": [
    "#Transformationion family 1\n",
    "D_list_1 = [((np.max(S) - S) / (np.max(S) - np.min(S))) ** 1, ((np.max(S) - S) / (np.max(S) - np.min(S))) ** 2, np.exp(((np.max(S) - S) / (np.max(S) - np.min(S))))]\n",
    "\n",
    "PC_labels_1 = []\n",
    "for D in tqdm(D_list_1):\n",
    "    PC = PairwiseClustering()\n",
    "    PC_labels_1.append(PC.fit_predict(D))"
   ]
  },
  {
   "cell_type": "code",
   "execution_count": 14,
   "metadata": {},
   "outputs": [
    {
     "data": {
      "text/html": [
       "<div>\n",
       "<style scoped>\n",
       "    .dataframe tbody tr th:only-of-type {\n",
       "        vertical-align: middle;\n",
       "    }\n",
       "\n",
       "    .dataframe tbody tr th {\n",
       "        vertical-align: top;\n",
       "    }\n",
       "\n",
       "    .dataframe thead th {\n",
       "        text-align: right;\n",
       "    }\n",
       "</style>\n",
       "<table border=\"1\" class=\"dataframe\">\n",
       "  <thead>\n",
       "    <tr style=\"text-align: right;\">\n",
       "      <th></th>\n",
       "      <th>transf1</th>\n",
       "      <th>transf2</th>\n",
       "      <th>transf3</th>\n",
       "      <th>Ground Truth</th>\n",
       "    </tr>\n",
       "  </thead>\n",
       "  <tbody>\n",
       "    <tr>\n",
       "      <th>v_measure_score</th>\n",
       "      <td>0.182115</td>\n",
       "      <td>0.192642</td>\n",
       "      <td>0.193450</td>\n",
       "      <td>1</td>\n",
       "    </tr>\n",
       "    <tr>\n",
       "      <th>normalized_mutual_info_score</th>\n",
       "      <td>0.182115</td>\n",
       "      <td>0.192642</td>\n",
       "      <td>0.193450</td>\n",
       "      <td>1</td>\n",
       "    </tr>\n",
       "    <tr>\n",
       "      <th>homogeneity_score</th>\n",
       "      <td>0.179514</td>\n",
       "      <td>0.189430</td>\n",
       "      <td>0.190648</td>\n",
       "      <td>1</td>\n",
       "    </tr>\n",
       "    <tr>\n",
       "      <th>fowlkes_mallows_score</th>\n",
       "      <td>0.361975</td>\n",
       "      <td>0.395861</td>\n",
       "      <td>0.391725</td>\n",
       "      <td>1</td>\n",
       "    </tr>\n",
       "    <tr>\n",
       "      <th>completeness_score</th>\n",
       "      <td>0.184792</td>\n",
       "      <td>0.195965</td>\n",
       "      <td>0.196336</td>\n",
       "      <td>1</td>\n",
       "    </tr>\n",
       "    <tr>\n",
       "      <th>adjusted_rand_score</th>\n",
       "      <td>0.066946</td>\n",
       "      <td>0.113002</td>\n",
       "      <td>0.109505</td>\n",
       "      <td>1</td>\n",
       "    </tr>\n",
       "    <tr>\n",
       "      <th>adjusted_mutual_info_score</th>\n",
       "      <td>0.180968</td>\n",
       "      <td>0.191508</td>\n",
       "      <td>0.192320</td>\n",
       "      <td>1</td>\n",
       "    </tr>\n",
       "  </tbody>\n",
       "</table>\n",
       "</div>"
      ],
      "text/plain": [
       "                               transf1   transf2   transf3  Ground Truth\n",
       "v_measure_score               0.182115  0.192642  0.193450             1\n",
       "normalized_mutual_info_score  0.182115  0.192642  0.193450             1\n",
       "homogeneity_score             0.179514  0.189430  0.190648             1\n",
       "fowlkes_mallows_score         0.361975  0.395861  0.391725             1\n",
       "completeness_score            0.184792  0.195965  0.196336             1\n",
       "adjusted_rand_score           0.066946  0.113002  0.109505             1\n",
       "adjusted_mutual_info_score    0.180968  0.191508  0.192320             1"
      ]
     },
     "execution_count": 14,
     "metadata": {},
     "output_type": "execute_result"
    },
    {
     "data": {
      "image/png": "[encoded data removed]",
      "text/plain": [
       "<Figure size 432x288 with 1 Axes>"
      ]
     },
     "metadata": {
      "needs_background": "light"
     },
     "output_type": "display_data"
    }
   ],
   "source": [
    "score_dict = compare_clusterings(labels_true=prodom[\"labels\"],\n",
    "                        transf1=PC_labels_1[0],\n",
    "                        transf2=PC_labels_1[1],\n",
    "                        transf3=PC_labels_1[2])\n",
    "df_family1 = show_results(score_dict)\n",
    "df_family1"
   ]
  },
  {
   "cell_type": "code",
   "execution_count": 15,
   "metadata": {},
   "outputs": [],
   "source": [
    "D_list_2 =[(np.max(S) / (1 + S - np.min(S))) ** 1, (np.max(S) / (1 + S - np.min(S))) ** 0.5, np.log((np.max(S) / (1 + S - np.min(S))))]\n",
    "\n",
    "PC_labels_2 = []\n",
    "for D in D_list_2:\n",
    "    \n",
    "    PC = PairwiseClustering()\n",
    "    PC_labels_2.append(PC.fit_predict(D))"
   ]
  },
  {
   "cell_type": "code",
   "execution_count": 16,
   "metadata": {},
   "outputs": [
    {
     "data": {
      "text/html": [
       "<div>\n",
       "<style scoped>\n",
       "    .dataframe tbody tr th:only-of-type {\n",
       "        vertical-align: middle;\n",
       "    }\n",
       "\n",
       "    .dataframe tbody tr th {\n",
       "        vertical-align: top;\n",
       "    }\n",
       "\n",
       "    .dataframe thead th {\n",
       "        text-align: right;\n",
       "    }\n",
       "</style>\n",
       "<table border=\"1\" class=\"dataframe\">\n",
       "  <thead>\n",
       "    <tr style=\"text-align: right;\">\n",
       "      <th></th>\n",
       "      <th>transf1</th>\n",
       "      <th>transf2</th>\n",
       "      <th>transf3</th>\n",
       "      <th>Ground Truth</th>\n",
       "    </tr>\n",
       "  </thead>\n",
       "  <tbody>\n",
       "    <tr>\n",
       "      <th>v_measure_score</th>\n",
       "      <td>0.413152</td>\n",
       "      <td>0.450931</td>\n",
       "      <td>0.362284</td>\n",
       "      <td>1</td>\n",
       "    </tr>\n",
       "    <tr>\n",
       "      <th>normalized_mutual_info_score</th>\n",
       "      <td>0.413152</td>\n",
       "      <td>0.450931</td>\n",
       "      <td>0.362284</td>\n",
       "      <td>1</td>\n",
       "    </tr>\n",
       "    <tr>\n",
       "      <th>homogeneity_score</th>\n",
       "      <td>0.415267</td>\n",
       "      <td>0.448733</td>\n",
       "      <td>0.348111</td>\n",
       "      <td>1</td>\n",
       "    </tr>\n",
       "    <tr>\n",
       "      <th>fowlkes_mallows_score</th>\n",
       "      <td>0.546241</td>\n",
       "      <td>0.560913</td>\n",
       "      <td>0.440525</td>\n",
       "      <td>1</td>\n",
       "    </tr>\n",
       "    <tr>\n",
       "      <th>completeness_score</th>\n",
       "      <td>0.411058</td>\n",
       "      <td>0.453150</td>\n",
       "      <td>0.377660</td>\n",
       "      <td>1</td>\n",
       "    </tr>\n",
       "    <tr>\n",
       "      <th>adjusted_rand_score</th>\n",
       "      <td>0.343920</td>\n",
       "      <td>0.359988</td>\n",
       "      <td>0.148129</td>\n",
       "      <td>1</td>\n",
       "    </tr>\n",
       "    <tr>\n",
       "      <th>adjusted_mutual_info_score</th>\n",
       "      <td>0.412346</td>\n",
       "      <td>0.450169</td>\n",
       "      <td>0.361368</td>\n",
       "      <td>1</td>\n",
       "    </tr>\n",
       "  </tbody>\n",
       "</table>\n",
       "</div>"
      ],
      "text/plain": [
       "                               transf1   transf2   transf3  Ground Truth\n",
       "v_measure_score               0.413152  0.450931  0.362284             1\n",
       "normalized_mutual_info_score  0.413152  0.450931  0.362284             1\n",
       "homogeneity_score             0.415267  0.448733  0.348111             1\n",
       "fowlkes_mallows_score         0.546241  0.560913  0.440525             1\n",
       "completeness_score            0.411058  0.453150  0.377660             1\n",
       "adjusted_rand_score           0.343920  0.359988  0.148129             1\n",
       "adjusted_mutual_info_score    0.412346  0.450169  0.361368             1"
      ]
     },
     "execution_count": 16,
     "metadata": {},
     "output_type": "execute_result"
    },
    {
     "data": {
      "image/png": "[encoded data removed]",
      "text/plain": [
       "<Figure size 432x288 with 1 Axes>"
      ]
     },
     "metadata": {
      "needs_background": "light"
     },
     "output_type": "display_data"
    }
   ],
   "source": [
    "score_dict = compare_clusterings(labels_true=prodom[\"labels\"],\n",
    "                        transf1=PC_labels_2[0],\n",
    "                        transf2=PC_labels_2[1],\n",
    "                        transf3=PC_labels_2[2])\n",
    "df_family2 = show_results(score_dict)\n",
    "df_family2"
   ]
  },
  {
   "cell_type": "code",
   "execution_count": 17,
   "metadata": {},
   "outputs": [
    {
     "name": "stdout",
     "output_type": "stream",
     "text": [
      "Optimal Transform Idx Family 1: 1  with average score: 0.2101498843343679\n",
      "Optimal Transform Idx Family 2: 1  with average score: 0.45354528368774377\n"
     ]
    }
   ],
   "source": [
    "np_family1 = df_family1.to_numpy()[:, :-1]\n",
    "np_family2 = df_family2.to_numpy()[:, :-1]\n",
    "np_family1_mean = np.mean(np_family1, axis=0)\n",
    "np_family2_mean = np.mean(np_family2, axis=0)\n",
    "family1_opt_idx = np.argmax(np_family1_mean)\n",
    "family2_opt_idx = np.argmax(np_family2_mean)\n",
    "print('Optimal Transform Idx Family 1:', family1_opt_idx, ' with average score:', np.max(np_family1_mean))\n",
    "print('Optimal Transform Idx Family 2:', family2_opt_idx, ' with average score:', np.max(np_family2_mean))"
   ]
  },
  {
   "cell_type": "code",
   "execution_count": 18,
   "metadata": {},
   "outputs": [
    {
     "data": {
      "text/html": [
       "<div>\n",
       "<style scoped>\n",
       "    .dataframe tbody tr th:only-of-type {\n",
       "        vertical-align: middle;\n",
       "    }\n",
       "\n",
       "    .dataframe tbody tr th {\n",
       "        vertical-align: top;\n",
       "    }\n",
       "\n",
       "    .dataframe thead th {\n",
       "        text-align: right;\n",
       "    }\n",
       "</style>\n",
       "<table border=\"1\" class=\"dataframe\">\n",
       "  <thead>\n",
       "    <tr style=\"text-align: right;\">\n",
       "      <th></th>\n",
       "      <th>family1_opt</th>\n",
       "      <th>family2_opt</th>\n",
       "      <th>Ground Truth</th>\n",
       "    </tr>\n",
       "  </thead>\n",
       "  <tbody>\n",
       "    <tr>\n",
       "      <th>v_measure_score</th>\n",
       "      <td>0.192642</td>\n",
       "      <td>0.450931</td>\n",
       "      <td>1</td>\n",
       "    </tr>\n",
       "    <tr>\n",
       "      <th>normalized_mutual_info_score</th>\n",
       "      <td>0.192642</td>\n",
       "      <td>0.450931</td>\n",
       "      <td>1</td>\n",
       "    </tr>\n",
       "    <tr>\n",
       "      <th>homogeneity_score</th>\n",
       "      <td>0.189430</td>\n",
       "      <td>0.448733</td>\n",
       "      <td>1</td>\n",
       "    </tr>\n",
       "    <tr>\n",
       "      <th>fowlkes_mallows_score</th>\n",
       "      <td>0.395861</td>\n",
       "      <td>0.560913</td>\n",
       "      <td>1</td>\n",
       "    </tr>\n",
       "    <tr>\n",
       "      <th>completeness_score</th>\n",
       "      <td>0.195965</td>\n",
       "      <td>0.453150</td>\n",
       "      <td>1</td>\n",
       "    </tr>\n",
       "    <tr>\n",
       "      <th>adjusted_rand_score</th>\n",
       "      <td>0.113002</td>\n",
       "      <td>0.359988</td>\n",
       "      <td>1</td>\n",
       "    </tr>\n",
       "    <tr>\n",
       "      <th>adjusted_mutual_info_score</th>\n",
       "      <td>0.191508</td>\n",
       "      <td>0.450169</td>\n",
       "      <td>1</td>\n",
       "    </tr>\n",
       "  </tbody>\n",
       "</table>\n",
       "</div>"
      ],
      "text/plain": [
       "                              family1_opt  family2_opt  Ground Truth\n",
       "v_measure_score                  0.192642     0.450931             1\n",
       "normalized_mutual_info_score     0.192642     0.450931             1\n",
       "homogeneity_score                0.189430     0.448733             1\n",
       "fowlkes_mallows_score            0.395861     0.560913             1\n",
       "completeness_score               0.195965     0.453150             1\n",
       "adjusted_rand_score              0.113002     0.359988             1\n",
       "adjusted_mutual_info_score       0.191508     0.450169             1"
      ]
     },
     "execution_count": 18,
     "metadata": {},
     "output_type": "execute_result"
    },
    {
     "data": {
      "image/png": "[encoded data removed]",
      "text/plain": [
       "<Figure size 432x288 with 1 Axes>"
      ]
     },
     "metadata": {
      "needs_background": "light"
     },
     "output_type": "display_data"
    }
   ],
   "source": [
    "score_dict = compare_clusterings(labels_true=prodom[\"labels\"],\n",
    "                        family1_opt=PC_labels_1[family1_opt_idx],\n",
    "                        family2_opt=PC_labels_2[family2_opt_idx])\n",
    "df_family_opts = show_results(score_dict)\n",
    "df_family_opts"
   ]
  },
  {
   "cell_type": "code",
   "execution_count": 19,
   "metadata": {},
   "outputs": [
    {
     "name": "stdout",
     "output_type": "stream",
     "text": [
      "Optimal transform is index: 1 from family 2\n"
     ]
    }
   ],
   "source": [
    "np_family_opts = df_family_opts.to_numpy()[:, :-1]\n",
    "np_family_opts = np.mean(np_family_opts, axis=0)\n",
    "family_opts_idx = np.argmax(np_family_opts)\n",
    "if family_opts_idx == 0:\n",
    "    opt_labels = PC_labels_1[family1_opt_idx]\n",
    "    print('Optimal transform is index:', family1_opt_idx, 'from family 1')\n",
    "if family_opts_idx == 1:\n",
    "    opt_labels = PC_labels_2[family2_opt_idx]\n",
    "    print('Optimal transform is index:', family2_opt_idx, 'from family 2')"
   ]
  },
  {
   "cell_type": "markdown",
   "metadata": {
    "colab_type": "text",
    "id": "ZcMJIbYGNHfY"
   },
   "source": [
    "<p style=\"background-color:#adebad;\">\n",
    "3. Provide description of another reasonable transformation from similarity to dissimilarity and explain your choice. <br>\n",
    "<b>NOTE</b>: By reasonable transformation, it is meant some transformation that allows mapping given dissimilarity values to similarity ones in a meaningful way: higher similarity value should correspond to smaller dissimilarity values.\n",
    "</p>"
   ]
  },
  {
   "cell_type": "markdown",
   "metadata": {},
   "source": [
    "Inspired by the paper Optimal Cluster Preserving Embedding of Nonmetric Proximity Data, the following transformation from similarity to dissimilarity was implemented:\n",
    "$$D_{ij} = S_{ii} + S_{jj}-2S_{ij}$$\n",
    "This is a simple transformation provides higher dissimilarities between two nodes $i$ and $j$ with lower similarity values. Furthermore, the elements of the transformation $ S_{ii}+S_{jj} $ prevent the dissimilarity values from becoming negative. Furthermore, to avoid numerical issues, we scale down D by a factor of the median value of D in order to avoid using huge numbers. \n"
   ]
  },
  {
   "cell_type": "markdown",
   "metadata": {},
   "source": [
    "<p style=\"background-color:#adebad;\">\n",
    "4. Implement your transformation. <br>\n",
    "5. Compare your transformation using <b>compare_clusterings()</b> with the best from task 4.0.2. You should get one plot. <br>\n",
    "</p>"
   ]
  },
  {
   "cell_type": "code",
   "execution_count": 20,
   "metadata": {},
   "outputs": [
    {
     "data": {
      "application/vnd.jupyter.widget-view+json": {
       "model_id": "868e2c248769457591cc3641c6633d48",
       "version_major": 2,
       "version_minor": 0
      },
      "text/plain": [
       "  0%|          | 0/2604 [00:00<?, ?it/s]"
      ]
     },
     "metadata": {},
     "output_type": "display_data"
    }
   ],
   "source": [
    "D = np.zeros(S.shape)\n",
    "for i in trange(S.shape[0]):\n",
    "    for j in range(S.shape[1]):\n",
    "        D[i,j]=S[i,i]+S[j,j]-2*S[i,j]\n",
    "D = D/np.mean(D)"
   ]
  },
  {
   "cell_type": "code",
   "execution_count": 21,
   "metadata": {},
   "outputs": [],
   "source": [
    "PC = PairwiseClustering()\n",
    "pred_labels =PC.fit_predict(D)"
   ]
  },
  {
   "cell_type": "code",
   "execution_count": 22,
   "metadata": {},
   "outputs": [
    {
     "data": {
      "text/html": [
       "<div>\n",
       "<style scoped>\n",
       "    .dataframe tbody tr th:only-of-type {\n",
       "        vertical-align: middle;\n",
       "    }\n",
       "\n",
       "    .dataframe tbody tr th {\n",
       "        vertical-align: top;\n",
       "    }\n",
       "\n",
       "    .dataframe thead th {\n",
       "        text-align: right;\n",
       "    }\n",
       "</style>\n",
       "<table border=\"1\" class=\"dataframe\">\n",
       "  <thead>\n",
       "    <tr style=\"text-align: right;\">\n",
       "      <th></th>\n",
       "      <th>D_of_choicce</th>\n",
       "      <th>families_opt</th>\n",
       "      <th>Ground Truth</th>\n",
       "    </tr>\n",
       "  </thead>\n",
       "  <tbody>\n",
       "    <tr>\n",
       "      <th>v_measure_score</th>\n",
       "      <td>0.166720</td>\n",
       "      <td>0.450931</td>\n",
       "      <td>1</td>\n",
       "    </tr>\n",
       "    <tr>\n",
       "      <th>normalized_mutual_info_score</th>\n",
       "      <td>0.166720</td>\n",
       "      <td>0.450931</td>\n",
       "      <td>1</td>\n",
       "    </tr>\n",
       "    <tr>\n",
       "      <th>homogeneity_score</th>\n",
       "      <td>0.160930</td>\n",
       "      <td>0.448733</td>\n",
       "      <td>1</td>\n",
       "    </tr>\n",
       "    <tr>\n",
       "      <th>fowlkes_mallows_score</th>\n",
       "      <td>0.349158</td>\n",
       "      <td>0.560913</td>\n",
       "      <td>1</td>\n",
       "    </tr>\n",
       "    <tr>\n",
       "      <th>completeness_score</th>\n",
       "      <td>0.172941</td>\n",
       "      <td>0.453150</td>\n",
       "      <td>1</td>\n",
       "    </tr>\n",
       "    <tr>\n",
       "      <th>adjusted_rand_score</th>\n",
       "      <td>0.021490</td>\n",
       "      <td>0.359988</td>\n",
       "      <td>1</td>\n",
       "    </tr>\n",
       "    <tr>\n",
       "      <th>adjusted_mutual_info_score</th>\n",
       "      <td>0.165527</td>\n",
       "      <td>0.450169</td>\n",
       "      <td>1</td>\n",
       "    </tr>\n",
       "  </tbody>\n",
       "</table>\n",
       "</div>"
      ],
      "text/plain": [
       "                              D_of_choicce  families_opt  Ground Truth\n",
       "v_measure_score                   0.166720      0.450931             1\n",
       "normalized_mutual_info_score      0.166720      0.450931             1\n",
       "homogeneity_score                 0.160930      0.448733             1\n",
       "fowlkes_mallows_score             0.349158      0.560913             1\n",
       "completeness_score                0.172941      0.453150             1\n",
       "adjusted_rand_score               0.021490      0.359988             1\n",
       "adjusted_mutual_info_score        0.165527      0.450169             1"
      ]
     },
     "execution_count": 22,
     "metadata": {},
     "output_type": "execute_result"
    },
    {
     "data": {
      "image/png": "[encoded data removed]",
      "text/plain": [
       "<Figure size 432x288 with 1 Axes>"
      ]
     },
     "metadata": {
      "needs_background": "light"
     },
     "output_type": "display_data"
    }
   ],
   "source": [
    "score_dict = compare_clusterings(labels_true=prodom[\"labels\"], D_of_choicce=pred_labels, families_opt=opt_labels)\n",
    "df_choice_v_family_opt = show_results(score_dict)\n",
    "df_choice_v_family_opt"
   ]
  },
  {
   "cell_type": "code",
   "execution_count": 23,
   "metadata": {},
   "outputs": [
    {
     "name": "stdout",
     "output_type": "stream",
     "text": [
      "Average accuracy using custom D: 0.17192656290175948\n",
      "Average accuracy using optimal D found from family of transformations: 0.45354528368774377\n",
      "Optimal dissimilarity from family of transformations is most optimal\n"
     ]
    }
   ],
   "source": [
    "np_choice_v_family_opt = df_choice_v_family_opt.to_numpy()[:, :-1]\n",
    "np_choice_v_family_opt = np.mean(np_choice_v_family_opt, axis=0)\n",
    "print('Average accuracy using custom D:', np_choice_v_family_opt[0])\n",
    "print('Average accuracy using optimal D found from family of transformations:', np_choice_v_family_opt[1])\n",
    "choice_v_family_opt = np.argmax(np_choice_v_family_opt)\n",
    "if choice_v_family_opt == 0:\n",
    "    print('Dissimilarity of choice is most optimal')\n",
    "else:\n",
    "    print('Optimal dissimilarity from family of transformations is most optimal')"
   ]
  },
  {
   "cell_type": "markdown",
   "metadata": {
    "colab_type": "text",
    "id": "MzDZ4INKNHfg"
   },
   "source": [
    "<h2 style=\"background-color:#f0b375;\">\n",
    "Section 5.5 \n",
    "<span style=font-size:50%> Complete all problems in this (5.5.1-5.5.6) and previous sections to get a grade of 5.5 </span>\n",
    "</h2>"
   ]
  },
  {
   "cell_type": "markdown",
   "metadata": {},
   "source": [
    "In this section, you have to implement and calculate cost function and investigate the stability of pairwise clustering in terms of obtained values of clustering cost function, providing experiments for different random seeds and numer of clusters."
   ]
  },
  {
   "cell_type": "markdown",
   "metadata": {},
   "source": [
    "<p style=\"background-color:#adebad;\">\n",
    "1. Implement the cost function of the <b>PairwiseClustering class</b>. <br>\n",
    "2. Compute cost function for <b>Protein</b> data. <br>\n",
    "3. Calculate execution time. <br>\n",
    "</p>"
   ]
  },
  {
   "cell_type": "code",
   "execution_count": 24,
   "metadata": {
    "colab": {
     "base_uri": "https://localhost:8080/",
     "height": 51
    },
    "colab_type": "code",
    "id": "-X4_uD43NHfh",
    "outputId": "1e9a2720-7aa5-47d0-8895-ada2067923d1"
   },
   "outputs": [
    {
     "name": "stdout",
     "output_type": "stream",
     "text": [
      "Cost: -307.83212705971\n",
      "Wall time: 234 ms\n"
     ]
    }
   ],
   "source": [
    "%%time\n",
    "PC = PairwiseClustering()\n",
    "labels_PC = PC.fit_predict(protein[\"dissimilarity\"])\n",
    "print('Cost:',PC.cost(PC.X, PC.M))"
   ]
  },
  {
   "cell_type": "markdown",
   "metadata": {
    "colab_type": "text",
    "id": "1kTYZi6wNHfo"
   },
   "source": [
    "<p style=\"background-color:#adebad;\">\n",
    "4. Re-run <b>fit_predict()</b> with 10 different random seeds and plot the distribution of clustering costs as shown in Figure 1 of reference [1]. <br>\n",
    "5. Visualize the histograms of obtained cost functions.You should get 2 histograms; one for <b>Prodom</b> and the other for <b>Protein</b> data. Hint: use <b>matplotlib.plot.hist()</b> to plot histograms of cost functions.\n",
    "</p>"
   ]
  },
  {
   "cell_type": "markdown",
   "metadata": {},
   "source": [
    "<p style=\"background-color:#adebad;\">\n",
    "<b>NOTE:</b> For ProDom data use best option from section 5.0 to transform similiarities to dissimiliraties. \n",
    "</p>"
   ]
  },
  {
   "cell_type": "code",
   "execution_count": 25,
   "metadata": {},
   "outputs": [],
   "source": [
    "D_prodom = D_list_2[1] #best option"
   ]
  },
  {
   "cell_type": "code",
   "execution_count": 26,
   "metadata": {
    "colab": {},
    "colab_type": "code",
    "id": "O0JuhulcB0CE"
   },
   "outputs": [
    {
     "data": {
      "application/vnd.jupyter.widget-view+json": {
       "model_id": "33c714f846594d8b876ede0aa19d500d",
       "version_major": 2,
       "version_minor": 0
      },
      "text/plain": [
       "  0%|          | 0/10 [00:00<?, ?it/s]"
      ]
     },
     "metadata": {},
     "output_type": "display_data"
    }
   ],
   "source": [
    "# Please use Problem 5.0 to transform similarities for ProDom data\n",
    "# data = [protein,prodom]\n",
    "# other parameters are default\n",
    "\n",
    "# Please add your code here\n",
    "cost_protein=[]\n",
    "cost_prodom=[]\n",
    "for random_seed in trange(10):\n",
    "    PC_protein = PairwiseClustering(random_state=random_seed)\n",
    "    labels_PC_protein = PC_protein.fit_predict(protein[\"dissimilarity\"])\n",
    "    cost_protein.append(PC_protein.cost(PC_protein.X, PC_protein.M))\n",
    "\n",
    "    PC_prodom = PairwiseClustering(random_state=random_seed)\n",
    "    labels_PC_prodom = PC_prodom.fit_predict(D_prodom)\n",
    "    cost_prodom.append(PC_prodom.cost(PC_prodom.X, PC_prodom.M))"
   ]
  },
  {
   "cell_type": "code",
   "execution_count": 27,
   "metadata": {},
   "outputs": [
    {
     "data": {
      "text/plain": [
       "Text(0.5, 1.0, 'Histogram for prodom')"
      ]
     },
     "execution_count": 27,
     "metadata": {},
     "output_type": "execute_result"
    },
    {
     "data": {
      "image/png": "[encoded data removed]",
      "text/plain": [
       "<Figure size 432x288 with 1 Axes>"
      ]
     },
     "metadata": {
      "needs_background": "light"
     },
     "output_type": "display_data"
    }
   ],
   "source": [
    "plt.hist([round(num, 11) for num in cost_prodom])\n",
    "plt.title('Histogram for prodom')"
   ]
  },
  {
   "cell_type": "code",
   "execution_count": 28,
   "metadata": {},
   "outputs": [
    {
     "data": {
      "text/plain": [
       "Text(0.5, 1.0, 'Histogram for protein')"
      ]
     },
     "execution_count": 28,
     "metadata": {},
     "output_type": "execute_result"
    },
    {
     "data": {
      "image/png": "[encoded data removed]",
      "text/plain": [
       "<Figure size 432x288 with 1 Axes>"
      ]
     },
     "metadata": {
      "needs_background": "light"
     },
     "output_type": "display_data"
    }
   ],
   "source": [
    "plt.hist([round(num, 15) for num in cost_protein])\n",
    "plt.title('Histogram for protein')"
   ]
  },
  {
   "cell_type": "markdown",
   "metadata": {},
   "source": [
    "<p style=\"background-color:#adebad;\">\n",
    "6. Perform the experiment for all the settings listed below, and visualize the results properly. You should get 4 histograms; one for each different number of clusters. <br>\n",
    "</p>"
   ]
  },
  {
   "cell_type": "code",
   "execution_count": 29,
   "metadata": {
    "colab": {},
    "colab_type": "code",
    "id": "NS8rrcdlNHfs"
   },
   "outputs": [
    {
     "data": {
      "application/vnd.jupyter.widget-view+json": {
       "model_id": "ace3b7b82d1c449da5c9898e93481dfa",
       "version_major": 2,
       "version_minor": 0
      },
      "text/plain": [
       "  0%|          | 0/10 [00:00<?, ?it/s]"
      ]
     },
     "metadata": {},
     "output_type": "display_data"
    },
    {
     "data": {
      "application/vnd.jupyter.widget-view+json": {
       "model_id": "10c2a0c8521b4288b221835192a5b094",
       "version_major": 2,
       "version_minor": 0
      },
      "text/plain": [
       "  0%|          | 0/10 [00:00<?, ?it/s]"
      ]
     },
     "metadata": {},
     "output_type": "display_data"
    },
    {
     "data": {
      "application/vnd.jupyter.widget-view+json": {
       "model_id": "aa0a6e3cafa74693bdecd91016a1f41e",
       "version_major": 2,
       "version_minor": 0
      },
      "text/plain": [
       "  0%|          | 0/10 [00:00<?, ?it/s]"
      ]
     },
     "metadata": {},
     "output_type": "display_data"
    },
    {
     "data": {
      "application/vnd.jupyter.widget-view+json": {
       "model_id": "bd9401e1a42f4a85831eb4c9c7349d98",
       "version_major": 2,
       "version_minor": 0
      },
      "text/plain": [
       "  0%|          | 0/10 [00:00<?, ?it/s]"
      ]
     },
     "metadata": {},
     "output_type": "display_data"
    }
   ],
   "source": [
    "n_clusters = [2, 4, 6, 8]\n",
    "data = protein\n",
    "# other parameters are default\n",
    "\n",
    "#Please add your code here\n",
    "all_costs = []\n",
    "shapes=[]\n",
    "for n_clusters_i in n_clusters:\n",
    "    costs=[]\n",
    "    \n",
    "    for random_seed in trange(10):\n",
    "        PC_protein = PairwiseClustering(n_clusters=n_clusters_i, random_state=random_seed)\n",
    "        labels_PC_protein = PC_protein.fit_predict(data[\"dissimilarity\"])\n",
    "        costs.append(PC_protein.cost(PC_protein.X, PC_protein.M))\n",
    "        \n",
    "        shapes.append(PC_protein.M.shape)\n",
    "    all_costs.append(costs)"
   ]
  },
  {
   "cell_type": "code",
   "execution_count": 30,
   "metadata": {},
   "outputs": [
    {
     "data": {
      "text/plain": [
       "Text(0.5, 1.0, 'Histogram using 2 clusters')"
      ]
     },
     "execution_count": 30,
     "metadata": {},
     "output_type": "execute_result"
    },
    {
     "data": {
      "image/png": "[encoded data removed]",
      "text/plain": [
       "<Figure size 432x288 with 1 Axes>"
      ]
     },
     "metadata": {
      "needs_background": "light"
     },
     "output_type": "display_data"
    }
   ],
   "source": [
    "plt.hist(all_costs[0])\n",
    "plt.title('Histogram using 2 clusters')"
   ]
  },
  {
   "cell_type": "code",
   "execution_count": 31,
   "metadata": {},
   "outputs": [
    {
     "data": {
      "text/plain": [
       "Text(0.5, 1.0, 'Histogram using 4 clusters')"
      ]
     },
     "execution_count": 31,
     "metadata": {},
     "output_type": "execute_result"
    },
    {
     "data": {
      "image/png": "[encoded data removed]",
      "text/plain": [
       "<Figure size 432x288 with 1 Axes>"
      ]
     },
     "metadata": {
      "needs_background": "light"
     },
     "output_type": "display_data"
    }
   ],
   "source": [
    "plt.hist([round(num, 15) for num in all_costs[1]])\n",
    "plt.title('Histogram using 4 clusters')"
   ]
  },
  {
   "cell_type": "code",
   "execution_count": 32,
   "metadata": {},
   "outputs": [
    {
     "data": {
      "text/plain": [
       "Text(0.5, 1.0, 'Histogram using 6 clusters')"
      ]
     },
     "execution_count": 32,
     "metadata": {},
     "output_type": "execute_result"
    },
    {
     "data": {
      "image/png": "[encoded data removed]",
      "text/plain": [
       "<Figure size 432x288 with 1 Axes>"
      ]
     },
     "metadata": {
      "needs_background": "light"
     },
     "output_type": "display_data"
    }
   ],
   "source": [
    "plt.hist(all_costs[2])\n",
    "plt.title('Histogram using 6 clusters')"
   ]
  },
  {
   "cell_type": "code",
   "execution_count": 33,
   "metadata": {},
   "outputs": [
    {
     "data": {
      "text/plain": [
       "Text(0.5, 1.0, 'Histogram using 8 clusters')"
      ]
     },
     "execution_count": 33,
     "metadata": {},
     "output_type": "execute_result"
    },
    {
     "data": {
      "image/png": "[encoded data removed]",
      "text/plain": [
       "<Figure size 432x288 with 1 Axes>"
      ]
     },
     "metadata": {
      "needs_background": "light"
     },
     "output_type": "display_data"
    }
   ],
   "source": [
    "plt.hist(all_costs[3])\n",
    "plt.title('Histogram using 8 clusters')"
   ]
  },
  {
   "cell_type": "markdown",
   "metadata": {
    "colab_type": "text",
    "id": "QJpukq-eNHf8"
   },
   "source": [
    "<h2 style=\"background-color:#f0b375;\">\n",
    "Section 6.0\n",
    "<span style=font-size:50%> Complete all problems (6.0.1-6.0.5) in this and previous sections to get a grade of 6.0 </span>\n",
    "</h2>\n",
    "\n"
   ]
  },
  {
   "cell_type": "markdown",
   "metadata": {},
   "source": [
    "In this section, you have to implement an EM-like procedure to obtain data embeddings in Euclidean space, while visualizing these clusters on a 2d plane."
   ]
  },
  {
   "cell_type": "markdown",
   "metadata": {},
   "source": [
    "<p style=\"background-color:#adebad;\">\n",
    "1. Provide a description of the EM-like procedure for pairwise clustering in case we want to get emeddings (algorithm III in reference [1]). <br>\n",
    "</p>"
   ]
  },
  {
   "cell_type": "markdown",
   "metadata": {},
   "source": [
    "Algirthm 3 is a pairwise clustering algorithm, where the dissimilarity data is embedded  such that the statistics of the resulting cluster structure matches the statistics of the original pairwise clustering solution. In many ways the algorithm is similar to algorithm 2. Matrices M and E are calculated similarly, through an EM-like process, except E is calculated in a manner in which the elements of E can be approximated through $E_{i\\nu}=||x_i-y_{\\nu}||^2$. This approximation can also be calculated through  $E_{i\\nu}= \\frac{1}{2Np_\\nu}\\sum^N_{k=1}M_{k\\nu}D_{ik}$ where elements of the dissimilarity matrix can be correctly approximated through $D_{ik}=||x_i -x_k||^2$. These relationships allow us to calculated E through matrices M and D. This M and D dependant function was used in the algorithm. In addition to this calculation, in the M-like step, the embeddings x and y are iteratively updated untill convergance using the calculated matrices E and M, the centroid condition and an appropriate approximation (33). "
   ]
  },
  {
   "cell_type": "markdown",
   "metadata": {},
   "source": [
    "<p style=\"background-color:#adebad;\">\n",
    "2.  Implement Algorithm III in [1], which explains how to compute an embedding within the EM-like procedure. In code <b>fit_predict()</b>: the <b>embed == True</b> part.<br>\n",
    "3. Predict clustering for <b>Protein</b> data.<br>\n",
    "4. Calculate execution time.<br>\n",
    "</p>"
   ]
  },
  {
   "cell_type": "markdown",
   "metadata": {},
   "source": [
    "Tricks to improve convergence without affecting the final cluster structure:\n",
    "\n",
    "- Low T leads to nan values: There is a safety net set up; matrices M and E are not directly modified during maximization and instead copies of these matrices are updated. These are then saved if the matrices do not contain nan values. If the matrix contains a nan value then the algorithm is terminated.\n",
    "- Early stopping: During EM-like process it was observed that the magnitudes of the embeddings explode leading to the algorithm becoming usntable. Furhermore, it was observed that using only a few iterations per EM-like step, the final cluster structure was not affected. This is judged based on the fact that the accuracies of the resulitng clustering is similar to that of the clusters generated by algorithm 2. See the plots below.\n",
    "- K matrix becoming singular: In certain cases K became singular and so certain embeddings could not be calculated, since we need to take its inverse. To overcome this issue, I added a small value to the diagonal elements to avoid this incase the K proved to be singular. "
   ]
  },
  {
   "cell_type": "code",
   "execution_count": 34,
   "metadata": {
    "colab": {},
    "colab_type": "code",
    "id": "wYurFjMcNHf8"
   },
   "outputs": [
    {
     "name": "stdout",
     "output_type": "stream",
     "text": [
      "Wall time: 6.45 s\n"
     ]
    }
   ],
   "source": [
    "%%time\n",
    "np.random.seed(111)\n",
    "PCE = PairwiseClustering(embed=True, n_components=2)\n",
    "labels = PCE.fit_predict(protein['dissimilarity'])\n",
    "#Please add your code here"
   ]
  },
  {
   "cell_type": "code",
   "execution_count": 35,
   "metadata": {},
   "outputs": [
    {
     "data": {
      "text/html": [
       "<div>\n",
       "<style scoped>\n",
       "    .dataframe tbody tr th:only-of-type {\n",
       "        vertical-align: middle;\n",
       "    }\n",
       "\n",
       "    .dataframe tbody tr th {\n",
       "        vertical-align: top;\n",
       "    }\n",
       "\n",
       "    .dataframe thead th {\n",
       "        text-align: right;\n",
       "    }\n",
       "</style>\n",
       "<table border=\"1\" class=\"dataframe\">\n",
       "  <thead>\n",
       "    <tr style=\"text-align: right;\">\n",
       "      <th></th>\n",
       "      <th>PCE</th>\n",
       "      <th>PairwiseClustering</th>\n",
       "      <th>Ground Truth</th>\n",
       "    </tr>\n",
       "  </thead>\n",
       "  <tbody>\n",
       "    <tr>\n",
       "      <th>v_measure_score</th>\n",
       "      <td>0.885313</td>\n",
       "      <td>0.946050</td>\n",
       "      <td>1</td>\n",
       "    </tr>\n",
       "    <tr>\n",
       "      <th>normalized_mutual_info_score</th>\n",
       "      <td>0.885313</td>\n",
       "      <td>0.946050</td>\n",
       "      <td>1</td>\n",
       "    </tr>\n",
       "    <tr>\n",
       "      <th>homogeneity_score</th>\n",
       "      <td>0.874997</td>\n",
       "      <td>0.948206</td>\n",
       "      <td>1</td>\n",
       "    </tr>\n",
       "    <tr>\n",
       "      <th>fowlkes_mallows_score</th>\n",
       "      <td>0.938875</td>\n",
       "      <td>0.975888</td>\n",
       "      <td>1</td>\n",
       "    </tr>\n",
       "    <tr>\n",
       "      <th>completeness_score</th>\n",
       "      <td>0.895875</td>\n",
       "      <td>0.943904</td>\n",
       "      <td>1</td>\n",
       "    </tr>\n",
       "    <tr>\n",
       "      <th>adjusted_rand_score</th>\n",
       "      <td>0.914174</td>\n",
       "      <td>0.966625</td>\n",
       "      <td>1</td>\n",
       "    </tr>\n",
       "    <tr>\n",
       "      <th>adjusted_mutual_info_score</th>\n",
       "      <td>0.883357</td>\n",
       "      <td>0.945148</td>\n",
       "      <td>1</td>\n",
       "    </tr>\n",
       "  </tbody>\n",
       "</table>\n",
       "</div>"
      ],
      "text/plain": [
       "                                   PCE  PairwiseClustering  Ground Truth\n",
       "v_measure_score               0.885313            0.946050             1\n",
       "normalized_mutual_info_score  0.885313            0.946050             1\n",
       "homogeneity_score             0.874997            0.948206             1\n",
       "fowlkes_mallows_score         0.938875            0.975888             1\n",
       "completeness_score            0.895875            0.943904             1\n",
       "adjusted_rand_score           0.914174            0.966625             1\n",
       "adjusted_mutual_info_score    0.883357            0.945148             1"
      ]
     },
     "execution_count": 35,
     "metadata": {},
     "output_type": "execute_result"
    },
    {
     "data": {
      "image/png": "[encoded data removed]",
      "text/plain": [
       "<Figure size 432x288 with 1 Axes>"
      ]
     },
     "metadata": {
      "needs_background": "light"
     },
     "output_type": "display_data"
    }
   ],
   "source": [
    "score_dict = compare_clusterings(labels_true=protein[\"labels\"], PCE=labels, PairwiseClustering=labels_PC)\n",
    "df_PCE = show_results(score_dict)\n",
    "df_PCE"
   ]
  },
  {
   "cell_type": "markdown",
   "metadata": {
    "colab_type": "text",
    "id": "SiTEUrmANHf-"
   },
   "source": [
    "<p style=\"background-color:#adebad;\">\n",
    "5. Cluster the Protein data and properly visualize the embedding for <b>n_components=2</b>. Hint: <b>use matplotlib.pyplot.scatter()</b> to plot clusters on 2d plane using different colors for different clusters.\n",
    "</p>"
   ]
  },
  {
   "cell_type": "code",
   "execution_count": 36,
   "metadata": {},
   "outputs": [
    {
     "data": {
      "text/plain": [
       "Text(0.5, 1.0, 'Labelled embeddings')"
      ]
     },
     "execution_count": 36,
     "metadata": {},
     "output_type": "execute_result"
    },
    {
     "data": {
      "image/png": "[encoded data removed]",
      "text/plain": [
       "<Figure size 432x288 with 1 Axes>"
      ]
     },
     "metadata": {
      "needs_background": "light"
     },
     "output_type": "display_data"
    }
   ],
   "source": [
    "plt.scatter(PCE.F[:,0], PCE.F[:,1], c=labels)\n",
    "plt.title('Labelled embeddings')"
   ]
  },
  {
   "cell_type": "code",
   "execution_count": 37,
   "metadata": {},
   "outputs": [
    {
     "data": {
      "text/plain": [
       "Text(0.5, 1.0, 'Labelled embeddings transformed using PCA')"
      ]
     },
     "execution_count": 37,
     "metadata": {},
     "output_type": "execute_result"
    },
    {
     "data": {
      "image/png": "[encoded data removed]",
      "text/plain": [
       "<Figure size 432x288 with 1 Axes>"
      ]
     },
     "metadata": {
      "needs_background": "light"
     },
     "output_type": "display_data"
    }
   ],
   "source": [
    "from sklearn.decomposition import PCA\n",
    "pca = PCA(2)\n",
    "pca.fit(PCE.F)\n",
    "F_transformed = pca.transform(PCE.F)\n",
    "plt.scatter(F_transformed[:,0], F_transformed[:,1], c=labels)\n",
    "plt.title('Labelled embeddings transformed using PCA')"
   ]
  },
  {
   "cell_type": "markdown",
   "metadata": {},
   "source": [
    "PCA was used simply to set the axis as the principle components of the embedded data. This helps to study the structure of the embedded data."
   ]
  },
  {
   "cell_type": "markdown",
   "metadata": {
    "colab_type": "text",
    "id": "MarVzEgQNHgB"
   },
   "source": [
    "## Comments\n",
    "\n",
    "We hope you found this exercise instructive.\n",
    "\n",
    "Feel free to leave comments below, we will read them carefully."
   ]
  },
  {
   "cell_type": "markdown",
   "metadata": {
    "colab_type": "text",
    "id": "5vKwjuCxNHgB"
   },
   "source": []
  }
 ],
 "metadata": {
  "accelerator": "GPU",
  "colab": {
   "name": "slt_ce_6.ipynb",
   "provenance": [],
   "toc_visible": true,
   "version": "0.3.2"
  },
  "kernelspec": {
   "display_name": "Python 3",
   "language": "python",
   "name": "python3"
  },
  "language_info": {
   "codemirror_mode": {
    "name": "ipython",
    "version": 3
   },
   "file_extension": ".py",
   "mimetype": "text/x-python",
   "name": "python",
   "nbconvert_exporter": "python",
   "pygments_lexer": "ipython3",
   "version": "3.7.7"
  }
 },
 "nbformat": 4,
 "nbformat_minor": 4
}
